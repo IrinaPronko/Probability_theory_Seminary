{
 "cells": [
  {
   "attachments": {},
   "cell_type": "markdown",
   "metadata": {},
   "source": [
    "**Проведите тест гипотезы. Продавец утверждает, что средний вес пачки печенья составляет 200 г. Из партии извлечена выборка из 10 пачек. Вес каждой пачки составляет: 202, 203, 199, 197, 195, 201, 200, 204, 194, 190. Известно, что их веса распределены нормально. Верно ли утверждение продавца, если учитывать, что уровень значимости 1%? (Провести двусторонний тест.)**"
   ]
  },
  {
   "cell_type": "code",
   "execution_count": 1,
   "metadata": {},
   "outputs": [],
   "source": [
    "import numpy as np\n",
    "import scipy.stats as stats"
   ]
  },
  {
   "attachments": {},
   "cell_type": "markdown",
   "metadata": {},
   "source": [
    "Составим гипотезы\n",
    "\n",
    "$H_0$ :  $М = 200$\n",
    "\n",
    "$H_1$ :  $М \\neq 200$"
   ]
  },
  {
   "cell_type": "code",
   "execution_count": 2,
   "metadata": {},
   "outputs": [
    {
     "data": {
      "text/plain": [
       "(198.5, 4.453463071962462)"
      ]
     },
     "execution_count": 2,
     "metadata": {},
     "output_type": "execute_result"
    }
   ],
   "source": [
    "weights = np.array([202, 203, 199, 197, 195, 201, 200, 204, 194, 190])\n",
    "n = 10\n",
    "\n",
    "mean = weights.mean()\n",
    "std = weights.std(ddof=1)\n",
    "\n",
    "mean, std"
   ]
  },
  {
   "attachments": {},
   "cell_type": "markdown",
   "metadata": {},
   "source": [
    "Поскольку мы проверяем гипотезу относительно математического ожидания нормально распределённой случайной величины\n",
    "с неизвестной дисперсией, будем использовать статистику:\n",
    "\n",
    "$t = \\dfrac{\\overline{X} - a}{\\sigma_X / \\sqrt{n}}$\n",
    "\n",
    "Статистика имеет вид:\n",
    "\n",
    "$t = \\dfrac{\\overline{X} - 200}{std / \\sqrt{10}} = \\dfrac{\\sqrt{10} \\cdot (\\overline{X} - 200)}{std}.$"
   ]
  },
  {
   "cell_type": "code",
   "execution_count": 3,
   "metadata": {},
   "outputs": [
    {
     "data": {
      "text/plain": [
       "-1.0651074037450896"
      ]
     },
     "execution_count": 3,
     "metadata": {},
     "output_type": "execute_result"
    }
   ],
   "source": [
    "# t- наблюдаемое\n",
    "t = (mean-200)/(std/np.sqrt(n))\n",
    "t"
   ]
  },
  {
   "attachments": {},
   "cell_type": "markdown",
   "metadata": {},
   "source": [
    "Доверительная вероятность $= 0.99$ \n",
    "\n",
    "Число степеней свободы = $n - 1 = 9$\n",
    "\n",
    "по таблице Стьюдента находим критическое  \n",
    "$t_1= 3.25$   \n",
    "$t_2= -3.25$\n",
    "\n",
    "$\\Omega_\\alpha = (-\\infty, -3.25) \\cup (3.25, \\infty).$"
   ]
  },
  {
   "attachments": {},
   "cell_type": "markdown",
   "metadata": {},
   "source": [
    "Ответ:\n",
    "\n",
    "Значение $t$ не попадает в критическую область, таким образом, гипотезу $H_0$ не отвергаем.  \n",
    "Утверждение продавца верно."
   ]
  }
 ],
 "metadata": {
  "kernelspec": {
   "display_name": "Python 3.11.2 64-bit",
   "language": "python",
   "name": "python3"
  },
  "language_info": {
   "codemirror_mode": {
    "name": "ipython",
    "version": 3
   },
   "file_extension": ".py",
   "mimetype": "text/x-python",
   "name": "python",
   "nbconvert_exporter": "python",
   "pygments_lexer": "ipython3",
   "version": "3.11.2"
  },
  "orig_nbformat": 4,
  "vscode": {
   "interpreter": {
    "hash": "c6bda570d439cef0b73331d70d74997e8c54be07738a0bdb7ee077605f256bd9"
   }
  }
 },
 "nbformat": 4,
 "nbformat_minor": 2
}
