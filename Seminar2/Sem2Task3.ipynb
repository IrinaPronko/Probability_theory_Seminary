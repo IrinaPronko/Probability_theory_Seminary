{
 "cells": [
  {
   "cell_type": "markdown",
   "metadata": {},
   "source": [
    "**Монету подбросили 144 раза. Какова вероятность, что орел выпадет ровно 70 раз?**\n",
    "\n",
    "Воспользуемся формулой **Бернулли**:\n",
    "\n",
    "$P_{n}(X=k)=C^k_{n}p^{k}q^{n-k}$, где \n",
    "\n",
    "                                        n=144 - количество испытаний,   \n",
    "                                        k=70 - количество выпадения орла,  \n",
    "                                        p=0.5 - вероятность выпадения орла,  \n",
    "                                        q=0.5 - вероятность выпадения решки"
   ]
  },
  {
   "cell_type": "markdown",
   "metadata": {},
   "source": [
    "Создадим функцию расчета по формуле Бернулли:"
   ]
  },
  {
   "cell_type": "code",
   "execution_count": 2,
   "metadata": {},
   "outputs": [],
   "source": [
    "from math import factorial, exp\n",
    "def bernulli(n, k, p):\n",
    "    comb=factorial(n)/(factorial(k)*factorial(n-k))\n",
    "    return comb*(p**k)*(1-p)**(n-k)"
   ]
  },
  {
   "cell_type": "markdown",
   "metadata": {},
   "source": [
    "и вычислим результат:"
   ]
  },
  {
   "cell_type": "code",
   "execution_count": 3,
   "metadata": {},
   "outputs": [
    {
     "name": "stdout",
     "output_type": "stream",
     "text": [
      "P =  0.0628\n"
     ]
    }
   ],
   "source": [
    "print(f'P = {bernulli(144,70,0.5): .4f}')"
   ]
  },
  {
   "cell_type": "markdown",
   "metadata": {},
   "source": [
    "___  \n",
    "_Ответ: вероятность того, что при 144-х кратном подбрасывании монетки орел выпадет ровно 70 раз составляет **P=0.0628** или **$\\approx$ 6.28%**_\n",
    "___"
   ]
  }
 ],
 "metadata": {
  "kernelspec": {
   "display_name": "Python 3.11.2 64-bit",
   "language": "python",
   "name": "python3"
  },
  "language_info": {
   "codemirror_mode": {
    "name": "ipython",
    "version": 3
   },
   "file_extension": ".py",
   "mimetype": "text/x-python",
   "name": "python",
   "nbconvert_exporter": "python",
   "pygments_lexer": "ipython3",
   "version": "3.11.2"
  },
  "orig_nbformat": 4,
  "vscode": {
   "interpreter": {
    "hash": "c6bda570d439cef0b73331d70d74997e8c54be07738a0bdb7ee077605f256bd9"
   }
  }
 },
 "nbformat": 4,
 "nbformat_minor": 2
}
