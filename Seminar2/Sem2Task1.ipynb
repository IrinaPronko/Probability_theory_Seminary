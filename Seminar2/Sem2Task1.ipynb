{
 "cells": [
  {
   "cell_type": "markdown",
   "metadata": {},
   "source": [
    "**Вероятность того, что стрелок попадет в мишень, выстрелив один раз, равна 0.8. Стрелок выстрелил 100 раз. Найдите вероятность того, что стрелок попадет в цель ровно 85 раз.**\n",
    "\n",
    "Воспользуемся формулой **Бернулли**:\n",
    "\n",
    "$P_{n}(X=k)=C^k_{n}p^{k}q^{n-k}$, где \n",
    "\n",
    "                                        n=100 - количество испытаний,   \n",
    "                                        k=85 - количество попадания в цель,  \n",
    "                                        p=0.8 - вероятность попадания в цель,  \n",
    "                                        q=0.2 - вероятность промаха"
   ]
  },
  {
   "cell_type": "markdown",
   "metadata": {},
   "source": [
    "Создадим функцию расчета по формуле Бернулли:"
   ]
  },
  {
   "cell_type": "code",
   "execution_count": 1,
   "metadata": {},
   "outputs": [],
   "source": [
    "from math import factorial, exp\n",
    "def bernulli(n, k, p):\n",
    "    comb=factorial(n)/(factorial(k)*factorial(n-k))\n",
    "    return comb*(p**k)*(1-p)**(n-k)"
   ]
  },
  {
   "cell_type": "markdown",
   "metadata": {},
   "source": [
    "и вычислим результат:"
   ]
  },
  {
   "cell_type": "code",
   "execution_count": 2,
   "metadata": {},
   "outputs": [
    {
     "name": "stdout",
     "output_type": "stream",
     "text": [
      "P =  0.0481\n"
     ]
    }
   ],
   "source": [
    "\n",
    "print(f'P = {bernulli(100,85,0.8): .4f}')"
   ]
  },
  {
   "cell_type": "markdown",
   "metadata": {},
   "source": [
    "___  \n",
    "_Ответ: вероятность того, что стрелок попадет в цель ровно 85 раз составляет **P=0.0481** или **$\\approx$ 4.81%**_"
   ]
  },
  {
   "cell_type": "markdown",
   "metadata": {},
   "source": [
    "___"
   ]
  }
 ],
 "metadata": {
  "kernelspec": {
   "display_name": "Python 3.11.2 64-bit",
   "language": "python",
   "name": "python3"
  },
  "language_info": {
   "codemirror_mode": {
    "name": "ipython",
    "version": 3
   },
   "file_extension": ".py",
   "mimetype": "text/x-python",
   "name": "python",
   "nbconvert_exporter": "python",
   "pygments_lexer": "ipython3",
   "version": "3.11.2"
  },
  "orig_nbformat": 4,
  "vscode": {
   "interpreter": {
    "hash": "c6bda570d439cef0b73331d70d74997e8c54be07738a0bdb7ee077605f256bd9"
   }
  }
 },
 "nbformat": 4,
 "nbformat_minor": 2
}
