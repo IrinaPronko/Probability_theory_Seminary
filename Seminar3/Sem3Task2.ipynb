{
 "cells": [
  {
   "cell_type": "markdown",
   "id": "compound-batch",
   "metadata": {},
   "source": [
    "**В первом ящике находится 8 мячей, из которых 5 - белые. Во втором\n",
    "ящике - 12 мячей, из которых 5 белых. Из первого ящика вытаскивают\n",
    "случайным образом два мяча, из второго - 4. Какова вероятность того, что\n",
    "3 мяча белые?**"
   ]
  },
  {
   "cell_type": "code",
   "execution_count": 8,
   "id": "introductory-manor",
   "metadata": {},
   "outputs": [],
   "source": [
    "import numpy as np\n",
    "from math import factorial"
   ]
  },
  {
   "cell_type": "markdown",
   "metadata": {},
   "source": [
    "Пусть $A$-искомое событие \"из двух корзин вытащили 3 белых\" мяча. Тогда\n",
    "это событие может произойти следующими способами:  \n",
    "а) $A_1$ из первой корзины не вытащили ни одного белого мяча, из второй\n",
    "вытащили 3 белых мяча;  \n",
    "б) $A_2$ из первой корзины вытащили 1 белый мяч, из второй вытащили 2\n",
    "белых мяча;  \n",
    "в) $A_3$ из первой корзины вытащили 2 белых мяча, из второй вытащили 1\n",
    "белый мяч.  \n",
    "Вероятность события $A$ будет определяться как сумма вероятностей этих\n",
    "событий.  "
   ]
  },
  {
   "cell_type": "code",
   "execution_count": 9,
   "id": "usual-pocket",
   "metadata": {},
   "outputs": [],
   "source": [
    "def combinations(n,k):\n",
    "    return factorial(n)/(factorial(k)*factorial(n-k))"
   ]
  },
  {
   "cell_type": "markdown",
   "metadata": {},
   "source": [
    "Определим вероятность события $A_1$:  \n",
    "$P(A_1)=\\frac{C^2_3}{C^2_8}\\cdot\\frac{C^3_5\\cdot C^1_7}{C^4_{12}}$"
   ]
  },
  {
   "cell_type": "code",
   "execution_count": 10,
   "id": "liable-magnitude",
   "metadata": {},
   "outputs": [
    {
     "name": "stdout",
     "output_type": "stream",
     "text": [
      "Вероятность события \"из первой корзины не вытащили ни одного белого мяча, из второй вытащили 3 белых мяча\"\n",
      "P(A1) =  0.0152\n"
     ]
    }
   ],
   "source": [
    "P1=(combinations(3,2)/combinations(8,2))*(combinations(5,3)*combinations(7,1)/combinations(12,4))\n",
    "print(f'Вероятность события \"из первой корзины не вытащили ни одного белого мяча'\n",
    "      f', из второй вытащили 3 белых мяча\"\\nP(A1) = {P1: .4f}'\n",
    "     )"
   ]
  },
  {
   "cell_type": "markdown",
   "id": "vertical-encyclopedia",
   "metadata": {},
   "source": [
    "Определим вероятность события $A_2$:  \n",
    "$P(A_2)=\\frac{C^1_5\\cdot C^1_3}{C^2_8}\\cdot\\frac{C^2_5\\cdot C^2_7}{C^4_{12}}$"
   ]
  },
  {
   "cell_type": "code",
   "execution_count": 11,
   "id": "shared-assembly",
   "metadata": {},
   "outputs": [
    {
     "name": "stdout",
     "output_type": "stream",
     "text": [
      "Вероятность события \"из первой корзины вытащили 1 белый мяч, из второй вытащили 2 белых мяча\"\n",
      "P(A2) =  0.2273\n"
     ]
    }
   ],
   "source": [
    "P2=(combinations(5,1)*combinations(3,1)*combinations(5,2)*combinations(7,2))/(combinations(8,2)*combinations(12,4))\n",
    "print(f'Вероятность события \"из первой корзины вытащили 1 белый мяч'\n",
    "      f', из второй вытащили 2 белых мяча\"\\nP(A2) = {P2: .4f}'\n",
    "     )"
   ]
  },
  {
   "cell_type": "markdown",
   "id": "finite-jonathan",
   "metadata": {},
   "source": [
    "Определим вероятность события $A_3$:  \n",
    "$P(A_3)=\\frac{C^2_5}{C^2_8}\\cdot\\frac{C^1_5\\cdot C^3_7}{C^4_{12}}$"
   ]
  },
  {
   "cell_type": "code",
   "execution_count": 12,
   "id": "ongoing-appliance",
   "metadata": {},
   "outputs": [
    {
     "name": "stdout",
     "output_type": "stream",
     "text": [
      "Вероятность события \"из первой корзины вытащили 2 белых мяча, из второй вытащили 1 белый мяч\"\n",
      "P(A3) =  0.1263\n"
     ]
    }
   ],
   "source": [
    "P3=(combinations(5,2)*combinations(5,1)*combinations(7,3))/(combinations(8,2)*combinations(12,4))\n",
    "print(f'Вероятность события \"из первой корзины вытащили 2 белых мяча'\n",
    "      f', из второй вытащили 1 белый мяч\"\\nP(A3) = {P3: .4f}')"
   ]
  },
  {
   "cell_type": "markdown",
   "id": "frank-serum",
   "metadata": {},
   "source": [
    "Вычислим $P(A)=P(A_1+A_2+A_3)=P(A_1)+P(A_2)+P(A_3)$"
   ]
  },
  {
   "cell_type": "code",
   "execution_count": 13,
   "id": "recreational-cinema",
   "metadata": {},
   "outputs": [
    {
     "name": "stdout",
     "output_type": "stream",
     "text": [
      "Вероятность того, что из вытащенных мячей 3 белые Р(А) =  0.3687\n"
     ]
    }
   ],
   "source": [
    "print(f'Вероятность того, что из вытащенных мячей 3 белые Р(А) = {P1+P2+P3: .4f}')"
   ]
  },
  {
   "cell_type": "markdown",
   "id": "settled-content",
   "metadata": {},
   "source": [
    "------------------------------------------------------------------------\n",
    "\n",
    "#### Ответ:\n",
    "\n",
    "Вероятность того, что 3 мяча белые $P(A)=0.3687$ или $\\approx 36.87\\%$\n",
    "\n",
    "------------------------------------------------------------------------"
   ]
  }
 ],
 "metadata": {
  "kernelspec": {
   "display_name": "Python 3.11.2 64-bit",
   "language": "python",
   "name": "python3"
  },
  "language_info": {
   "codemirror_mode": {
    "name": "ipython",
    "version": 3
   },
   "file_extension": ".py",
   "mimetype": "text/x-python",
   "name": "python",
   "nbconvert_exporter": "python",
   "pygments_lexer": "ipython3",
   "version": "3.11.2"
  },
  "orig_nbformat": 4,
  "vscode": {
   "interpreter": {
    "hash": "c6bda570d439cef0b73331d70d74997e8c54be07738a0bdb7ee077605f256bd9"
   }
  }
 },
 "nbformat": 4,
 "nbformat_minor": 2
}
