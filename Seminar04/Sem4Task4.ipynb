{
 "cells": [
  {
   "attachments": {},
   "cell_type": "markdown",
   "metadata": {},
   "source": [
    "**Рост взрослого населения города X имеет нормальное распределение. Причем, средний рост равен 174 см, а среднее квадратичное отклонение равно 8 см. Какова вероятность того, что случайным образом выбранный взрослый человек имеет рост:**  \n",
    "\n",
    "               а) больше 182 см  \n",
    "               б) больше 190 см  \n",
    "               в) от 166 см до 190 см  \n",
    "               г) от 166 см до 182 см  \n",
    "               д) от 158 см до 190 см  \n",
    "               е) не выше 150 см или не ниже 190 см  \n",
    "               ё) не выше 150 см или не ниже 198 см  \n",
    "               ж) ниже 166 см.  "
   ]
  },
  {
   "attachments": {},
   "cell_type": "markdown",
   "metadata": {},
   "source": [
    "Для расчета значений вероятности воспользуемся методом cdf, объекта NormalDist стандартного модуля statistics "
   ]
  },
  {
   "cell_type": "code",
   "execution_count": 51,
   "metadata": {},
   "outputs": [],
   "source": [
    "from statistics import NormalDist"
   ]
  },
  {
   "attachments": {},
   "cell_type": "markdown",
   "metadata": {},
   "source": [
    "Напишем функцию для определения $Z$-значений для данного распределения:"
   ]
  },
  {
   "cell_type": "code",
   "execution_count": 52,
   "metadata": {},
   "outputs": [],
   "source": [
    "def z_value(height):\n",
    "    return (height-174)/8"
   ]
  },
  {
   "attachments": {},
   "cell_type": "markdown",
   "metadata": {},
   "source": [
    "a) Определим $Z$-значениe:"
   ]
  },
  {
   "cell_type": "code",
   "execution_count": 53,
   "metadata": {},
   "outputs": [
    {
     "name": "stdout",
     "output_type": "stream",
     "text": [
      "1.0\n"
     ]
    }
   ],
   "source": [
    "print(z_value(182))"
   ]
  },
  {
   "attachments": {},
   "cell_type": "markdown",
   "metadata": {},
   "source": [
    "метод cdf определяет вероятность того, что случайная величина X будет меньше или равна x, т.е в данном случае $P(X\\le182)$ "
   ]
  },
  {
   "cell_type": "code",
   "execution_count": 54,
   "metadata": {},
   "outputs": [
    {
     "data": {
      "text/plain": [
       "0.8413447460685428"
      ]
     },
     "execution_count": 54,
     "metadata": {},
     "output_type": "execute_result"
    }
   ],
   "source": [
    "NormalDist().cdf(z_value(182))"
   ]
  },
  {
   "attachments": {},
   "cell_type": "markdown",
   "metadata": {},
   "source": [
    "Однако нам нужна вероятность $P(X>182)$, поэтому вычтем полученное значение из $1$:"
   ]
  },
  {
   "cell_type": "code",
   "execution_count": 55,
   "metadata": {},
   "outputs": [
    {
     "name": "stdout",
     "output_type": "stream",
     "text": [
      "Вероятность того, что рост случайно выбранного человека будет больше 182 см составляет  0.1587\n"
     ]
    }
   ],
   "source": [
    "P=1-NormalDist().cdf(z_value(182))\n",
    "print(f'Вероятность того, что рост случайно выбранного человека будет больше 182 см составляет {P: .4f}')"
   ]
  },
  {
   "attachments": {},
   "cell_type": "markdown",
   "metadata": {},
   "source": [
    "Вероятность того, что рост случайно выбранного человека будет больше 182 см составляет - $P(X>182)=0.1587$ или $\\approx15,87\\%$  \n",
    "\n",
    "---"
   ]
  },
  {
   "attachments": {},
   "cell_type": "markdown",
   "metadata": {},
   "source": [
    "б) Определим $Z$-значениe:"
   ]
  },
  {
   "cell_type": "code",
   "execution_count": 56,
   "metadata": {},
   "outputs": [
    {
     "data": {
      "text/plain": [
       "2.0"
      ]
     },
     "execution_count": 56,
     "metadata": {},
     "output_type": "execute_result"
    }
   ],
   "source": [
    "z=z_value(190)\n",
    "z"
   ]
  },
  {
   "attachments": {},
   "cell_type": "markdown",
   "metadata": {},
   "source": [
    "Определим $P(X>190)$"
   ]
  },
  {
   "cell_type": "code",
   "execution_count": 57,
   "metadata": {},
   "outputs": [
    {
     "name": "stdout",
     "output_type": "stream",
     "text": [
      "Вероятность того, что рост случайно выбранного человека будет больше 190 см составляет  0.0228\n"
     ]
    }
   ],
   "source": [
    "P=1-NormalDist().cdf(z)\n",
    "print(f'Вероятность того, что рост случайно выбранного человека будет больше 190 см составляет {P: .4f}')"
   ]
  },
  {
   "attachments": {},
   "cell_type": "markdown",
   "metadata": {},
   "source": [
    "Вероятность того, что рост случайно выбранного человека будет больше 190 см составляет - $P(X>190)=0.0228$ или $\\approx2,28\\%$  \n",
    "\n",
    "---"
   ]
  },
  {
   "attachments": {},
   "cell_type": "markdown",
   "metadata": {},
   "source": [
    "в) Определим $Z_1$ и $Z_2$"
   ]
  },
  {
   "cell_type": "code",
   "execution_count": 58,
   "metadata": {},
   "outputs": [
    {
     "data": {
      "text/plain": [
       "-1.0"
      ]
     },
     "execution_count": 58,
     "metadata": {},
     "output_type": "execute_result"
    }
   ],
   "source": [
    "z1=z_value(166)\n",
    "z1"
   ]
  },
  {
   "cell_type": "code",
   "execution_count": 59,
   "metadata": {},
   "outputs": [
    {
     "data": {
      "text/plain": [
       "2.0"
      ]
     },
     "execution_count": 59,
     "metadata": {},
     "output_type": "execute_result"
    }
   ],
   "source": [
    "z2=z_value(190)\n",
    "z2"
   ]
  },
  {
   "attachments": {},
   "cell_type": "markdown",
   "metadata": {},
   "source": [
    "Определим $P(166\\le X\\le 190)$"
   ]
  },
  {
   "cell_type": "code",
   "execution_count": 60,
   "metadata": {},
   "outputs": [
    {
     "name": "stdout",
     "output_type": "stream",
     "text": [
      "Вероятность того, что рост случайно выбранного человека будет от 166 см до 190 см составляет  0.8186\n"
     ]
    }
   ],
   "source": [
    "P=NormalDist().cdf(z2)-NormalDist().cdf(z1)\n",
    "print(f'Вероятность того, что рост случайно выбранного человека будет от 166 см до 190 см составляет {P: .4f}')"
   ]
  },
  {
   "attachments": {},
   "cell_type": "markdown",
   "metadata": {},
   "source": [
    "Вероятность того, что рост случайно выбранного человека будет от 166 см до 190 см составляет - $P(166\\le X\\le 190)=0.8186$ или $\\approx81,86\\%$  \n",
    "\n",
    "---"
   ]
  },
  {
   "attachments": {},
   "cell_type": "markdown",
   "metadata": {},
   "source": [
    "г) Определим $Z_1$ и $Z_2$"
   ]
  },
  {
   "cell_type": "code",
   "execution_count": 61,
   "metadata": {},
   "outputs": [
    {
     "data": {
      "text/plain": [
       "-1.0"
      ]
     },
     "execution_count": 61,
     "metadata": {},
     "output_type": "execute_result"
    }
   ],
   "source": [
    "z1=z_value(166)\n",
    "z1"
   ]
  },
  {
   "cell_type": "code",
   "execution_count": 62,
   "metadata": {},
   "outputs": [
    {
     "data": {
      "text/plain": [
       "1.0"
      ]
     },
     "execution_count": 62,
     "metadata": {},
     "output_type": "execute_result"
    }
   ],
   "source": [
    "z2=z_value(182)\n",
    "z2"
   ]
  },
  {
   "attachments": {},
   "cell_type": "markdown",
   "metadata": {},
   "source": [
    "Определим $P(166\\le X\\le 182)$"
   ]
  },
  {
   "cell_type": "code",
   "execution_count": 63,
   "metadata": {},
   "outputs": [
    {
     "name": "stdout",
     "output_type": "stream",
     "text": [
      "Вероятность того, что рост случайно выбранного человека будет от 166 см до 182 см составляет  0.6827\n"
     ]
    }
   ],
   "source": [
    "P=NormalDist().cdf(z2)-NormalDist().cdf(z1)\n",
    "print(f'Вероятность того, что рост случайно выбранного человека будет от 166 см до 182 см составляет {P: .4f}')"
   ]
  },
  {
   "attachments": {},
   "cell_type": "markdown",
   "metadata": {},
   "source": [
    "Вероятность того, что рост случайно выбранного человека будет от 166 см до 182 см составляет - $P(166\\le X\\le 182)=0.6827$ или $\\approx68,27\\%$  \n",
    "\n",
    "---"
   ]
  },
  {
   "attachments": {},
   "cell_type": "markdown",
   "metadata": {},
   "source": [
    "д) Определим $Z_1$ и $Z_2$"
   ]
  },
  {
   "cell_type": "code",
   "execution_count": 64,
   "metadata": {},
   "outputs": [
    {
     "data": {
      "text/plain": [
       "-2.0"
      ]
     },
     "execution_count": 64,
     "metadata": {},
     "output_type": "execute_result"
    }
   ],
   "source": [
    "z1=z_value(158)\n",
    "z1"
   ]
  },
  {
   "cell_type": "code",
   "execution_count": 65,
   "metadata": {},
   "outputs": [
    {
     "data": {
      "text/plain": [
       "2.0"
      ]
     },
     "execution_count": 65,
     "metadata": {},
     "output_type": "execute_result"
    }
   ],
   "source": [
    "z2=z_value(190)\n",
    "z2"
   ]
  },
  {
   "attachments": {},
   "cell_type": "markdown",
   "metadata": {},
   "source": [
    "Определим $P(158\\le X\\le 190)$"
   ]
  },
  {
   "cell_type": "code",
   "execution_count": 66,
   "metadata": {},
   "outputs": [
    {
     "name": "stdout",
     "output_type": "stream",
     "text": [
      "Вероятность того, что рост случайно выбранного человека будет от 158 см до 190 см составляет  0.9545\n"
     ]
    }
   ],
   "source": [
    "P=NormalDist().cdf(z2)-NormalDist().cdf(z1)\n",
    "print(f'Вероятность того, что рост случайно выбранного человека будет от 158 см до 190 см составляет {P: .4f}')"
   ]
  },
  {
   "attachments": {},
   "cell_type": "markdown",
   "metadata": {},
   "source": [
    "Вероятность того, что рост случайно выбранного человека будет от 158 см до 190 см составляет - $P(158\\le X\\le 190)=0.9545$ или $\\approx95,45\\%$  \n",
    "\n",
    "---"
   ]
  },
  {
   "attachments": {},
   "cell_type": "markdown",
   "metadata": {},
   "source": [
    "е) Определим $Z_1$ и $Z_2$"
   ]
  },
  {
   "cell_type": "code",
   "execution_count": 67,
   "metadata": {},
   "outputs": [
    {
     "data": {
      "text/plain": [
       "-3.0"
      ]
     },
     "execution_count": 67,
     "metadata": {},
     "output_type": "execute_result"
    }
   ],
   "source": [
    "z1=z_value(150)\n",
    "z1"
   ]
  },
  {
   "attachments": {},
   "cell_type": "markdown",
   "metadata": {},
   "source": [
    "Так как метод cdf определяет вероятность того, что случайная величина X будет меньше или равна x, т.е для расчета вероятности роста человека **\"не ниже\"** необходимо применять значение на 0,1 меньше _(при измерении роста с точностью до миллиметра)_ - $P(X\\le189.9)$ "
   ]
  },
  {
   "cell_type": "code",
   "execution_count": 68,
   "metadata": {},
   "outputs": [
    {
     "data": {
      "text/plain": [
       "1.9875000000000007"
      ]
     },
     "execution_count": 68,
     "metadata": {},
     "output_type": "execute_result"
    }
   ],
   "source": [
    "z2=z_value(189.9)\n",
    "z2"
   ]
  },
  {
   "attachments": {},
   "cell_type": "markdown",
   "metadata": {},
   "source": [
    "Определим $P(X\\le150\\cup X\\ge 190)$"
   ]
  },
  {
   "cell_type": "code",
   "execution_count": 69,
   "metadata": {},
   "outputs": [
    {
     "name": "stdout",
     "output_type": "stream",
     "text": [
      "Вероятность того, что рост случайно выбранного человека будет не выше 150 см или не ниже 190 см составляет  0.0248\n"
     ]
    }
   ],
   "source": [
    "P=NormalDist().cdf(z1)+(1-NormalDist().cdf(z2))\n",
    "print(f'Вероятность того, что рост случайно выбранного человека будет не выше 150 см или не ниже 190 см составляет {P: .4f}')"
   ]
  },
  {
   "attachments": {},
   "cell_type": "markdown",
   "metadata": {},
   "source": [
    "Вероятность того, что рост случайно выбранного человека будет не выше 150 см или не ниже 190 см составляет $P(X\\le150\\cup X\\ge 190)=0.0248$ или $\\approx2,48\\%$    \n",
    "\n",
    "---"
   ]
  },
  {
   "attachments": {},
   "cell_type": "markdown",
   "metadata": {},
   "source": [
    "ё) Определим $Z_1$ и $Z_2$"
   ]
  },
  {
   "cell_type": "code",
   "execution_count": 70,
   "metadata": {},
   "outputs": [
    {
     "data": {
      "text/plain": [
       "-3.0"
      ]
     },
     "execution_count": 70,
     "metadata": {},
     "output_type": "execute_result"
    }
   ],
   "source": [
    "z1=z_value(150)\n",
    "z1"
   ]
  },
  {
   "cell_type": "code",
   "execution_count": 71,
   "metadata": {},
   "outputs": [
    {
     "data": {
      "text/plain": [
       "2.9875000000000007"
      ]
     },
     "execution_count": 71,
     "metadata": {},
     "output_type": "execute_result"
    }
   ],
   "source": [
    "z2=z_value(197.9)\n",
    "z2"
   ]
  },
  {
   "attachments": {},
   "cell_type": "markdown",
   "metadata": {},
   "source": [
    "Определим $P(X\\le150\\cup X\\ge 198)$"
   ]
  },
  {
   "cell_type": "code",
   "execution_count": 72,
   "metadata": {},
   "outputs": [
    {
     "name": "stdout",
     "output_type": "stream",
     "text": [
      "Вероятность того, что рост случайно выбранного человека будет не выше 150 см или не ниже 198 см составляет  0.0028\n"
     ]
    }
   ],
   "source": [
    "P=NormalDist().cdf(z1)+(1-NormalDist().cdf(z2))\n",
    "print(f'Вероятность того, что рост случайно выбранного человека будет не выше 150 см или не ниже 198 см составляет {P: .4f}')"
   ]
  },
  {
   "attachments": {},
   "cell_type": "markdown",
   "metadata": {},
   "source": [
    "Вероятность того, что рост случайно выбранного человека будет не выше 150 см или не ниже 198 см составляет $P(X\\le150\\cup X\\ge 198)=0.0028$ или $\\approx0,28\\%$    \n",
    "\n",
    "---"
   ]
  },
  {
   "attachments": {},
   "cell_type": "markdown",
   "metadata": {},
   "source": [
    "ж) Определим $Z$-значениe:"
   ]
  },
  {
   "cell_type": "code",
   "execution_count": 73,
   "metadata": {},
   "outputs": [
    {
     "data": {
      "text/plain": [
       "-1.0124999999999993"
      ]
     },
     "execution_count": 73,
     "metadata": {},
     "output_type": "execute_result"
    }
   ],
   "source": [
    "z=z_value(165.9)\n",
    "z"
   ]
  },
  {
   "attachments": {},
   "cell_type": "markdown",
   "metadata": {},
   "source": [
    "Определим $P(X<166)$"
   ]
  },
  {
   "cell_type": "code",
   "execution_count": 74,
   "metadata": {},
   "outputs": [
    {
     "name": "stdout",
     "output_type": "stream",
     "text": [
      "Вероятность того, что рост случайно выбранного человека ниже 166 см составляет  0.1556\n"
     ]
    }
   ],
   "source": [
    "P=NormalDist().cdf(z)\n",
    "print(f'Вероятность того, что рост случайно выбранного человека ниже 166 см составляет {P: .4f}')"
   ]
  },
  {
   "attachments": {},
   "cell_type": "markdown",
   "metadata": {},
   "source": [
    "Вероятность того, что рост случайно выбранного человека будет ниже 166 см составляет $P(X<166)=0.1556$ или $\\approx15,56\\%$  \n",
    "\n",
    "---"
   ]
  },
  {
   "attachments": {},
   "cell_type": "markdown",
   "metadata": {},
   "source": [
    "Ответ. Вероятность того, что рост случайно выбранного человека будет:  \n",
    "а) больше 182 см - $P(X>182)=0.1587$ или $\\approx15,87\\%$  \n",
    "б) больше 190 см - $P(X>190)=0.0228$ или $\\approx2,28\\%$  \n",
    "в) от 166 см до 190 см - $P(166\\le X\\le 190)=0.8186$ или $\\approx81,86\\%$  \n",
    "г) от 166 см до 182 см - $P(166\\le X\\le 182)=0.6827$ или $\\approx68,27\\%$  \n",
    "д) от 158 см до 190 см - $P(158\\le X\\le 190)=0.9545$ или $\\approx95,45\\%$  \n",
    "е) не выше 150 см или не ниже 190 см - $P(X\\le150\\cup X\\ge 190)=0.0248$ или $\\approx2,48\\%$  \n",
    "ё) не выше 150 см или не ниже 198 см - $P(X\\le150\\cup X\\ge 198)=0.0028$ или $\\approx0,28\\%$  \n",
    "ж) ниже 166 см - $P(X<166)=0.1556$ или $\\approx15,56\\%$  \n",
    "\n",
    "---"
   ]
  }
 ],
 "metadata": {
  "kernelspec": {
   "display_name": "Python 3.11.2 64-bit",
   "language": "python",
   "name": "python3"
  },
  "language_info": {
   "codemirror_mode": {
    "name": "ipython",
    "version": 3
   },
   "file_extension": ".py",
   "mimetype": "text/x-python",
   "name": "python",
   "nbconvert_exporter": "python",
   "pygments_lexer": "ipython3",
   "version": "3.11.2"
  },
  "orig_nbformat": 4,
  "vscode": {
   "interpreter": {
    "hash": "c6bda570d439cef0b73331d70d74997e8c54be07738a0bdb7ee077605f256bd9"
   }
  }
 },
 "nbformat": 4,
 "nbformat_minor": 2
}
