{
 "cells": [
  {
   "attachments": {},
   "cell_type": "markdown",
   "metadata": {},
   "source": [
    "**О случайной непрерывной равномерно распределенной величине B известно, что ее дисперсия равна 0.2. Можно ли найти правую границу величины B и ее среднее значение зная, что левая граница равна 0.5? Если да, найдите ее.**"
   ]
  },
  {
   "attachments": {},
   "cell_type": "markdown",
   "metadata": {},
   "source": [
    "Зная, что дисперсия случайной непрерывной равномерно распределённой на отрезке $(a;b)$величины $B$ находится по формуле:  \n",
    "$\\displaystyle D(B)=\\frac{(b-a)^2}{12}$  \n",
    "И имея заданные значения $D(B)=0.2$ и $a=0.5$  \n",
    "Найдем правую границу $b$ величины $B$ из уравнения  \n",
    "$\\displaystyle \\frac{(b-0.5)^2}{12}=0.2\\\\b-0.5=\\sqrt{2.4}\\\\b=0.5+\\sqrt{2.4}$  \n",
    "И найдем среднее значение по формуле:  \n",
    "$\\displaystyle M(B)=\\frac{a+b}{2}$"
   ]
  },
  {
   "attachments": {},
   "cell_type": "markdown",
   "metadata": {},
   "source": [
    "Вычислим:"
   ]
  },
  {
   "cell_type": "code",
   "execution_count": 1,
   "metadata": {},
   "outputs": [
    {
     "name": "stdout",
     "output_type": "stream",
     "text": [
      "Правая граница распределения величины В - b =  2.049\n",
      "Среднее значение В на промежутке (0.5;  2.049) M(B) =  1.275\n"
     ]
    }
   ],
   "source": [
    "b=0.5+2.4**(1/2)\n",
    "print(f'Правая граница распределения величины В - b = {b: .3f}\\n'\n",
    "      f'Среднее значение В на промежутке (0.5; {b: .3f}) M(B) = {(b+0.5)/2: .3f}')"
   ]
  },
  {
   "attachments": {},
   "cell_type": "markdown",
   "metadata": {},
   "source": [
    "---\n",
    "\n",
    "Ответ:  \n",
    "Правая граница распределения: $b=2.049$  \n",
    "Среднее значение: $M(B)=1.275$  \n",
    "\n",
    "---"
   ]
  }
 ],
 "metadata": {
  "kernelspec": {
   "display_name": "Python 3.11.2 64-bit",
   "language": "python",
   "name": "python3"
  },
  "language_info": {
   "codemirror_mode": {
    "name": "ipython",
    "version": 3
   },
   "file_extension": ".py",
   "mimetype": "text/x-python",
   "name": "python",
   "nbconvert_exporter": "python",
   "pygments_lexer": "ipython3",
   "version": "3.11.2"
  },
  "orig_nbformat": 4,
  "vscode": {
   "interpreter": {
    "hash": "c6bda570d439cef0b73331d70d74997e8c54be07738a0bdb7ee077605f256bd9"
   }
  }
 },
 "nbformat": 4,
 "nbformat_minor": 2
}
