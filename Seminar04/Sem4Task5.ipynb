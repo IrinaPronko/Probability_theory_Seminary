{
 "cells": [
  {
   "attachments": {},
   "cell_type": "markdown",
   "metadata": {},
   "source": [
    "**На сколько $\\sigma$ (средних квадратичных отклонений) отклоняется рост человека, равный 190 см, от математического ожидания роста в популяции, в которой M(X) = 178 см и D(X) = 25 см$^2$?**  "
   ]
  },
  {
   "attachments": {},
   "cell_type": "markdown",
   "metadata": {},
   "source": [
    "Воспользуемся формулой расчета $Z$-оценки:  \n",
    "$\\displaystyle Z=\\frac{X-\\bar x}{\\sigma}=\\frac{190-178}{\\sqrt{25}}=\\frac{12}{5}$ , где:  \n",
    "    $\\bar x$ = M(X) = 178  \n",
    "    $\\sigma$ = $\\sqrt{D(X)}$ = $\\sqrt{25}$"
   ]
  },
  {
   "cell_type": "code",
   "execution_count": 11,
   "metadata": {},
   "outputs": [
    {
     "name": "stdout",
     "output_type": "stream",
     "text": [
      "Рост человека, равный 190 см, отклоняется от математического ожидания роста в популяции, \n",
      "в которой M(X) = 178 см и D(X) = 25 см² на 2.4σ\n"
     ]
    }
   ],
   "source": [
    "print(f'Рост человека, равный 190 см, отклоняется от математического ожидания роста в популяции, \\n'\n",
    "      f'в которой M(X) = 178 см и D(X) = 25 см\\u00b2 на {(190-178)/25**(1/2):.1f}σ')"
   ]
  },
  {
   "attachments": {},
   "cell_type": "markdown",
   "metadata": {},
   "source": [
    "---  \n",
    "Ответ:  \n",
    "Рост человека, равный 190 см, отклоняется от математического ожидания роста в популяции, в которой M(X) = 178 см и D(X) = 25 см$^2$на $2.4\\sigma$  \n",
    "\n",
    "---"
   ]
  }
 ],
 "metadata": {
  "kernelspec": {
   "display_name": "Python 3.11.2 64-bit",
   "language": "python",
   "name": "python3"
  },
  "language_info": {
   "codemirror_mode": {
    "name": "ipython",
    "version": 3
   },
   "file_extension": ".py",
   "mimetype": "text/x-python",
   "name": "python",
   "nbconvert_exporter": "python",
   "pygments_lexer": "ipython3",
   "version": "3.11.2"
  },
  "orig_nbformat": 4,
  "vscode": {
   "interpreter": {
    "hash": "c6bda570d439cef0b73331d70d74997e8c54be07738a0bdb7ee077605f256bd9"
   }
  }
 },
 "nbformat": 4,
 "nbformat_minor": 2
}
