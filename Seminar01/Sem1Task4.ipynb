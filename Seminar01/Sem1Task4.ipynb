{
 "cells": [
  {
   "attachments": {},
   "cell_type": "markdown",
   "metadata": {},
   "source": [
    "**В лотерее 100 билетов. Из них 2 выигрышных. Какова вероятность того, что 2 приобретенных билета окажутся выигрышными?**"
   ]
  },
  {
   "attachments": {},
   "cell_type": "markdown",
   "metadata": {},
   "source": [
    "Общее количество исходов n будет определяться количеством сочетаний 2 из 100, а количество благоприятных исходов m = 1.\n"
   ]
  },
  {
   "cell_type": "markdown",
   "metadata": {},
   "source": [
    "Вводим функцию расчета исходов"
   ]
  },
  {
   "cell_type": "code",
   "execution_count": 1,
   "metadata": {},
   "outputs": [],
   "source": [
    "from math import factorial\n",
    "def combinations(n, k):\n",
    "    return int(factorial(n) / (factorial(k) * factorial(n - k)))"
   ]
  },
  {
   "attachments": {},
   "cell_type": "markdown",
   "metadata": {},
   "source": [
    "Расчитаем общее количество исходов и вероятность приобретения только 2 выигрышных билетов."
   ]
  },
  {
   "cell_type": "code",
   "execution_count": 13,
   "metadata": {},
   "outputs": [
    {
     "name": "stdout",
     "output_type": "stream",
     "text": [
      "P(оба выигрышных) = 0.0002\n"
     ]
    }
   ],
   "source": [
    "n=combinations(100, 2)\n",
    "P=1/n\n",
    "print(f'P(оба выигрышных) = {round(P,4)}')"
   ]
  },
  {
   "cell_type": "code",
   "execution_count": 1,
   "metadata": {},
   "outputs": [
    {
     "name": "stdout",
     "output_type": "stream",
     "text": [
      "P(оба выигрышных) = 0.0002\n"
     ]
    }
   ],
   "source": [
    "P1=2/100*1/99\n",
    "print(f'P(оба выигрышных) = {round(P1,4)}')"
   ]
  },
  {
   "attachments": {},
   "cell_type": "markdown",
   "metadata": {},
   "source": [
    "Ответ: вероятность, что будут куплены только 2 выигрышных билета из 100 составляет P=0.0002 или примерно 0.02%."
   ]
  }
 ],
 "metadata": {
  "kernelspec": {
   "display_name": "Python 3.11.2 64-bit",
   "language": "python",
   "name": "python3"
  },
  "language_info": {
   "codemirror_mode": {
    "name": "ipython",
    "version": 3
   },
   "file_extension": ".py",
   "mimetype": "text/x-python",
   "name": "python",
   "nbconvert_exporter": "python",
   "pygments_lexer": "ipython3",
   "version": "3.11.2"
  },
  "orig_nbformat": 4,
  "vscode": {
   "interpreter": {
    "hash": "c6bda570d439cef0b73331d70d74997e8c54be07738a0bdb7ee077605f256bd9"
   }
  }
 },
 "nbformat": 4,
 "nbformat_minor": 2
}
