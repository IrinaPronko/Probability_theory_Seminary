{
 "cells": [
  {
   "cell_type": "markdown",
   "id": "polish-network",
   "metadata": {},
   "source": [
    "**Даны значения зарплат из выборки выпускников: 100, 80, 75, 77, 89, 33, 45, 25, 65, 17, 30, 24, 57, 55, 70, 75, 65, 84, 90, 150. Посчитать\n",
    "(желательно без использования статистических методов наподобие std, var,\n",
    "mean):**  \n",
    "\n",
    "а) среднее арифметическое,  \n",
    "б) среднее квадратичное отклонение,  \n",
    "с) смещенную и несмещенную оценки дисперсий для данной выборки."
   ]
  },
  {
   "cell_type": "code",
   "execution_count": 4,
   "id": "introductory-manor",
   "metadata": {},
   "outputs": [],
   "source": [
    "import numpy as np\n",
    "from math import factorial"
   ]
  },
  {
   "cell_type": "code",
   "execution_count": 5,
   "id": "configured-methodology",
   "metadata": {},
   "outputs": [
    {
     "data": {
      "text/plain": [
       "array([100,  80,  75,  77,  89,  33,  45,  25,  65,  17,  30,  24,  57,\n",
       "        55,  70,  75,  65,  84,  90, 150])"
      ]
     },
     "execution_count": 5,
     "metadata": {},
     "output_type": "execute_result"
    }
   ],
   "source": [
    "arr=np.array([100, 80, 75, 77, 89, 33, 45, 25, 65, 17, 30, 24, 57, 55, 70, 75, 65, 84, 90, 150])\n",
    "arr"
   ]
  },
  {
   "cell_type": "markdown",
   "id": "democratic-warrior",
   "metadata": {},
   "source": [
    "a\\) Расчитаем среднее арифметическое по формуле:\n",
    "$\\displaystyle M(X)=\\frac{1}{n}\\sum^n_{i=1}x_i$"
   ]
  },
  {
   "cell_type": "code",
   "execution_count": 6,
   "id": "grateful-savings",
   "metadata": {},
   "outputs": [],
   "source": [
    "def mean_value(array):\n",
    "    return sum(array)/len(array)"
   ]
  },
  {
   "cell_type": "code",
   "execution_count": 16,
   "id": "engaged-order",
   "metadata": {},
   "outputs": [
    {
     "name": "stdout",
     "output_type": "stream",
     "text": [
      "Среднее арифметическое для данной выборки М(Х) =  65.3000\n"
     ]
    }
   ],
   "source": [
    "print(f'Среднее арифметическое для данной выборки М(Х) = {mean_value(arr): .4f}')"
   ]
  },
  {
   "cell_type": "markdown",
   "id": "raising-vampire",
   "metadata": {},
   "source": [
    "Проверим с помощью функции mean:"
   ]
  },
  {
   "cell_type": "code",
   "execution_count": 17,
   "id": "interstate-cancellation",
   "metadata": {},
   "outputs": [
    {
     "name": "stdout",
     "output_type": "stream",
     "text": [
      "Среднее арифметическое для данной выборки М(Х) =  65.30\n"
     ]
    }
   ],
   "source": [
    "print(f'Среднее арифметическое для данной выборки М(Х) = {np.mean(arr): .4f}')"
   ]
  },
  {
   "cell_type": "markdown",
   "id": "powered-transcription",
   "metadata": {},
   "source": [
    "б) Расчитаем среднее квадратичное отклонение выборки по формуле:\n",
    "$\\sigma=\\sqrt{\\frac{\\displaystyle\\sum^n_{i=1}(x_{i}-\\bar x)^2}{n}}$"
   ]
  },
  {
   "cell_type": "code",
   "execution_count": 9,
   "id": "hispanic-talent",
   "metadata": {},
   "outputs": [],
   "source": [
    "def mean_square_deviation(array):\n",
    "    square_dev=(array-mean_value(array))**2\n",
    "    return (sum(square_dev)/len(square_dev))**(1/2)"
   ]
  },
  {
   "cell_type": "code",
   "execution_count": 10,
   "id": "interim-convert",
   "metadata": {},
   "outputs": [
    {
     "name": "stdout",
     "output_type": "stream",
     "text": [
      "Среднее квадратичное отклонение для данной выборки SD =  30.8239\n"
     ]
    }
   ],
   "source": [
    "print(f'Среднее квадратичное отклонение для данной выборки SD = {mean_square_deviation(arr): .4f}')"
   ]
  },
  {
   "cell_type": "markdown",
   "id": "raising-vampire",
   "metadata": {},
   "source": [
    "Проверим с помощью функции std:"
   ]
  },
  {
   "cell_type": "code",
   "execution_count": 18,
   "id": "saved-delay",
   "metadata": {},
   "outputs": [
    {
     "name": "stdout",
     "output_type": "stream",
     "text": [
      "Среднее квадратичное отклонение для данной выборки SD =  30.8239\n"
     ]
    }
   ],
   "source": [
    "print(f'Среднее квадратичное отклонение для данной выборки SD = {np.std(arr): .4f}')"
   ]
  },
  {
   "cell_type": "markdown",
   "id": "satisfactory-ghana",
   "metadata": {},
   "source": [
    "в) Расчитаем смещенную оценку дисперсии по формуле:\n",
    "$\\sigma^2=\\frac{\\displaystyle\\sum^n_{i=1}(x_{i}-\\bar x)^2}{n}$  \n",
    "а несмещённую по формуле:\n",
    "$\\sigma^2=\\frac{\\displaystyle\\sum^n_{i=1}(x_{i}-\\bar x)^2}{n-1}$"
   ]
  },
  {
   "cell_type": "code",
   "execution_count": 12,
   "id": "former-authority",
   "metadata": {},
   "outputs": [],
   "source": [
    "def dispers(array, no_off=False):\n",
    "#аргумент no_off отвечает за расчет смещенной, или несмещенной оценки дисперсии. По умолчанио расчитывается смещенная.#\n",
    "    square_dev=(array-mean_value(array))**2\n",
    "    return sum(square_dev)/(len(square_dev)-1) if no_off else sum(square_dev)/len(square_dev)"
   ]
  },
  {
   "cell_type": "code",
   "execution_count": 23,
   "id": "white-absence",
   "metadata": {},
   "outputs": [
    {
     "name": "stdout",
     "output_type": "stream",
     "text": [
      "Смещенная оценка дисперсии для данной выборки D =  950.1100\n",
      "Неcмещенная оценка дисперсии для данной выборки D =  1000.1158\n"
     ]
    }
   ],
   "source": [
    "print(f'Смещенная оценка дисперсии для данной выборки D = {dispers(arr): .4f}\\n'\n",
    "      f'Неcмещенная оценка дисперсии для данной выборки D = {dispers(arr, True): .4f}')"
   ]
  },
  {
   "cell_type": "markdown",
   "id": "standing-access",
   "metadata": {},
   "source": [
    "Проверим с помощью функции var:"
   ]
  },
  {
   "cell_type": "code",
   "execution_count": 19,
   "id": "typical-scoop",
   "metadata": {},
   "outputs": [
    {
     "name": "stdout",
     "output_type": "stream",
     "text": [
      "Смещенная оценка дисперсии для данной выборки D =  950.1100\n"
     ]
    }
   ],
   "source": [
    "print(f'Смещенная оценка дисперсии для данной выборки D = {np.var(arr): .4f}')"
   ]
  },
  {
   "cell_type": "code",
   "execution_count": 22,
   "id": "confidential-monster",
   "metadata": {
    "scrolled": true
   },
   "outputs": [
    {
     "name": "stdout",
     "output_type": "stream",
     "text": [
      "Неcмещенная оценка дисперсии для данной выборки D =  1000.1158\n"
     ]
    }
   ],
   "source": [
    "print(f'Неcмещенная оценка дисперсии для данной выборки D = {np.var(arr, ddof=1): .4f}')"
   ]
  },
  {
   "cell_type": "markdown",
   "id": "corresponding-editor",
   "metadata": {},
   "source": [
    "------------------------------------------------------------------------\n",
    "\n",
    "#### Ответ:\n",
    "\n",
    "а) $М(Х)= 65.30$;  \n",
    "б) $\\sigma = 30.8239$;  \n",
    "в) $\\sigma^2_{\\text{смещ}}=950.11$,\n",
    "$\\sigma^2_{\\text{несмещ}}=1000.1158$.\n",
    "\n",
    "------------------------------------------------------------------------"
   ]
  }
 ],
 "metadata": {
  "kernelspec": {
   "display_name": "Python 3.11.2 64-bit",
   "language": "python",
   "name": "python3"
  },
  "language_info": {
   "codemirror_mode": {
    "name": "ipython",
    "version": 3
   },
   "file_extension": ".py",
   "mimetype": "text/x-python",
   "name": "python",
   "nbconvert_exporter": "python",
   "pygments_lexer": "ipython3",
   "version": "3.11.2"
  },
  "orig_nbformat": 4,
  "vscode": {
   "interpreter": {
    "hash": "c6bda570d439cef0b73331d70d74997e8c54be07738a0bdb7ee077605f256bd9"
   }
  }
 },
 "nbformat": 4,
 "nbformat_minor": 2
}
