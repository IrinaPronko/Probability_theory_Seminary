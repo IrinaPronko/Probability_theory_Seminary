{
 "cells": [
  {
   "cell_type": "code",
   "execution_count": null,
   "metadata": {},
   "outputs": [],
   "source": [
    "import numpy as np\n",
    "import scipy.stats as stats\n",
    "import matplotlib.pyplot as plt"
   ]
  },
  {
   "attachments": {},
   "cell_type": "markdown",
   "metadata": {},
   "source": [
    "**Исследовалось влияние препарата на уровень давления пациентов. Сначала измерялось давление до приема препарата, потом через 10 минут и через 30 минут.**  \n",
    "**Есть ли статистически значимые различия?**  \n",
    "\n",
    "$1е$ измерение до приема препарата: $X1 = 150, 160, 165, 145, 155$  \n",
    "\n",
    "$2е$ измерение через 10 минут:  $X2 = 140, 155, 150, 130, 135$  \n",
    "\n",
    "$3е$ измерение через 30 минут:  $X3 = 130, 130, 120, 130, 125$  "
   ]
  },
  {
   "cell_type": "code",
   "execution_count": null,
   "metadata": {},
   "outputs": [
    {
     "name": "stdout",
     "output_type": "stream",
     "text": [
      "\n",
      ">>> Statistics = 9.58 \n",
      ">>> Р-value = 0.008\n",
      ">>> Cтатистически значимые различия присутствуют, нулевую гипотезу отвергаем, препарат влияет на давление.\n"
     ]
    }
   ],
   "source": [
    "alpha=0.05\n",
    "x1=np.array([150, 160, 165, 145, 155])\n",
    "x2=np.array([140, 155, 150, 130, 135])\n",
    "x3=np.array([130, 130, 120, 130, 125])\n",
    "d = stats.friedmanchisquare(x1, x2, x3)\n",
    "print('\\n>>> Statistics = %.2f \\n>>> Р-value = %.3f' % (d))\n",
    "s, p = stats.friedmanchisquare(x1, x2, x3)\n",
    "if p > alpha:\n",
    "    print('>>> Cтатистически значимых различий нет, нулевая гипотеза не отвергается, препарат не влияет на давление.')\n",
    "else:\n",
    "    print('>>> Cтатистически значимые различия присутствуют, нулевую гипотезу отвергаем, препарат влияет на давление.')"
   ]
  },
  {
   "attachments": {},
   "cell_type": "markdown",
   "metadata": {},
   "source": [
    "Ответ.\n",
    "\n",
    "Так как $pvalue<\\alpha(0.05)$ статистически значимые различия есть. Нулевую гипотезу $H_0$ отвергаем - препарат влияет на давление"
   ]
  }
 ],
 "metadata": {
  "kernelspec": {
   "display_name": "Python 3.11.2 64-bit",
   "language": "python",
   "name": "python3"
  },
  "language_info": {
   "name": "python",
   "version": "3.11.2"
  },
  "orig_nbformat": 4,
  "vscode": {
   "interpreter": {
    "hash": "c6bda570d439cef0b73331d70d74997e8c54be07738a0bdb7ee077605f256bd9"
   }
  }
 },
 "nbformat": 4,
 "nbformat_minor": 2
}
