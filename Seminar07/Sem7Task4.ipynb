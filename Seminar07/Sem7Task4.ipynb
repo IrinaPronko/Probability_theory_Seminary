{
 "cells": [
  {
   "cell_type": "code",
   "execution_count": null,
   "metadata": {},
   "outputs": [],
   "source": [
    "import numpy as np\n",
    "import scipy.stats as stats\n",
    "import matplotlib.pyplot as plt"
   ]
  },
  {
   "attachments": {},
   "cell_type": "markdown",
   "metadata": {},
   "source": [
    "**Даны 3 группы учеников плавания.**  \n",
    "\n",
    "В 1 группе время на дистанции 50 м составляет:  \n",
    "$X1 = 56, 60, 62, 55, 71, 67, 59, 58, 64, 67$  \n",
    "Во 2 группе:  \n",
    "$X2 = 57, 58, 69, 48, 72, 70, 68, 71, 50, 53$  \n",
    "В 3 группе:  \n",
    "$X3 = 57, 67, 49, 48, 47, 55, 66, 51, 54$  \n",
    " \n",
    "**Есть ли различия между группами?**"
   ]
  },
  {
   "cell_type": "code",
   "execution_count": null,
   "metadata": {},
   "outputs": [
    {
     "name": "stdout",
     "output_type": "stream",
     "text": [
      "\n",
      ">>> Statistics = 5.47 \n",
      ">>> Р-value = 0.065\n",
      ">>> Cтатистически значимых различий нет, нулевая гипотеза не отвергается, время на дистанцию одинаковое.\n"
     ]
    }
   ],
   "source": [
    "alpha=0.05\n",
    "x1=np.array([56, 60, 62, 55, 71, 67, 59, 58, 64, 67])\n",
    "x2=np.array([57, 58, 69, 48, 72, 70, 68, 71, 50, 53])\n",
    "x3=np.array([57, 67, 49, 48, 47, 55, 66, 51, 54])\n",
    "d = stats.kruskal(x1,x2,x3)\n",
    "print('\\n>>> Statistics = %.2f \\n>>> Р-value = %.3f' % (d))\n",
    "s, p = stats.kruskal(x1,x2,x3)\n",
    "if p > alpha:\n",
    "    print('>>> Cтатистически значимых различий нет, нулевая гипотеза не отвергается, время на дистанцию одинаковое.')\n",
    "else:\n",
    "    print('>>> Cтатистически значимые различия присутствуют, нулевую гипотезу отвергаем, время на дистанцию не одинаковое.')"
   ]
  },
  {
   "attachments": {},
   "cell_type": "markdown",
   "metadata": {},
   "source": [
    "Ответ.\n",
    "$pvalue>\\alpha(0.05)$ статистически значимых различий нет $H_0$ не отвергаем, время на преодоление дистанции у групп учеников сопоставимое"
   ]
  }
 ],
 "metadata": {
  "kernelspec": {
   "display_name": "Python 3.11.2 64-bit",
   "language": "python",
   "name": "python3"
  },
  "language_info": {
   "name": "python",
   "version": "3.11.2"
  },
  "orig_nbformat": 4,
  "vscode": {
   "interpreter": {
    "hash": "c6bda570d439cef0b73331d70d74997e8c54be07738a0bdb7ee077605f256bd9"
   }
  }
 },
 "nbformat": 4,
 "nbformat_minor": 2
}
