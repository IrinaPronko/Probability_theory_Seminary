{
 "cells": [
  {
   "cell_type": "markdown",
   "metadata": {},
   "source": [
    "**Вероятность того, что лампочка перегорит в течение первого дня эксплуатации, равна 0.0004. В жилом комплексе после ремонта в один день включили 5000 новых лампочек.**  \n",
    "**a) Какова вероятность, что ни одна из них не перегорит в первый день?**  \n",
    "**б) Какова вероятность, что перегорят ровно две?**"
   ]
  },
  {
   "cell_type": "markdown",
   "metadata": {},
   "source": [
    "Поскольку в задаче вероятность наступления события мала, а количество испытаний велико, для решения задачи воспользуемся формулой **Пуассона**:  \n",
    "\n",
    "$P_m=\\frac{\\lambda^m}{m!}\\cdot e^{-\\lambda}$, где $\\lambda=p\\cdot n$"
   ]
  },
  {
   "cell_type": "markdown",
   "metadata": {},
   "source": [
    "Создадим функцию расчета по формуле Пуассона:"
   ]
  },
  {
   "cell_type": "code",
   "execution_count": 4,
   "metadata": {},
   "outputs": [],
   "source": [
    "from math import factorial, exp\n",
    "def poisson_distr(m,p,n):\n",
    "    lamb=p*n\n",
    "    return exp(-lamb)*(lamb**m)/factorial(m)"
   ]
  },
  {
   "cell_type": "markdown",
   "metadata": {},
   "source": [
    "а) по первому условию задания -  \n",
    "\n",
    "                                    p=0.0004 - вероятность перегорания лампочки в первый день,  \n",
    "                                    n=5000 - количество ламп,  \n",
    "                                    m=0 - событие не наступит, т.е. ни одна лампа не сгорит  \n",
    "Вычислим:"
   ]
  },
  {
   "cell_type": "code",
   "execution_count": 5,
   "metadata": {},
   "outputs": [
    {
     "name": "stdout",
     "output_type": "stream",
     "text": [
      "P =  0.1353\n"
     ]
    }
   ],
   "source": [
    "print(f'P = {poisson_distr(0,0.0004,5000): .4f}')"
   ]
  },
  {
   "cell_type": "markdown",
   "metadata": {},
   "source": [
    "___  \n",
    "_Ответ: вероятность того, что ни одна из ламп не перегорит в первый день составляет **P=0.1353** или **$\\approx$ 13.53%**_  \n",
    "\n",
    "___"
   ]
  },
  {
   "cell_type": "markdown",
   "metadata": {},
   "source": [
    "б) по второму условию задания -  \n",
    "\n",
    "                                    p=0.0004 - вероятность перегорания лампочки в первый день,  \n",
    "                                    n=5000 - количество ламп,  \n",
    "                                    m=2 - в первый день должны перегореть две лампы  \n",
    "Вычислим:"
   ]
  },
  {
   "cell_type": "code",
   "execution_count": 6,
   "metadata": {},
   "outputs": [
    {
     "name": "stdout",
     "output_type": "stream",
     "text": [
      "P =  0.2707\n"
     ]
    }
   ],
   "source": [
    "print(f'P = {poisson_distr(2,0.0004,5000): .4f}')"
   ]
  },
  {
   "cell_type": "markdown",
   "metadata": {},
   "source": [
    "___  \n",
    "_Ответ: вероятность того, что в первый день перегорят 2 лампы составляет **P=0.2707** или **$\\approx$ 27.07%**_  \n",
    "\n",
    "___"
   ]
  }
 ],
 "metadata": {
  "kernelspec": {
   "display_name": "Python 3.11.2 64-bit",
   "language": "python",
   "name": "python3"
  },
  "language_info": {
   "codemirror_mode": {
    "name": "ipython",
    "version": 3
   },
   "file_extension": ".py",
   "mimetype": "text/x-python",
   "name": "python",
   "nbconvert_exporter": "python",
   "pygments_lexer": "ipython3",
   "version": "3.11.2"
  },
  "orig_nbformat": 4,
  "vscode": {
   "interpreter": {
    "hash": "c6bda570d439cef0b73331d70d74997e8c54be07738a0bdb7ee077605f256bd9"
   }
  }
 },
 "nbformat": 4,
 "nbformat_minor": 2
}
